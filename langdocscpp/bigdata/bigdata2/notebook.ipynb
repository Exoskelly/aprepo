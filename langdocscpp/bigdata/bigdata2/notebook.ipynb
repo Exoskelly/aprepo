{
 "cells": [
  {
   "cell_type": "code",
   "execution_count": null,
   "id": "bf7056b8",
   "metadata": {
    "vscode": {
     "languageId": "plaintext"
    }
   },
   "outputs": [],
   "source": [
    "\n",
    "%pip install pandas seaborn matplotlib numpy -q\n",
    "import pandas as pd\n",
    "import seaborn as sns\n",
    "import matplotlib.pyplot as plt\n",
    "import numpy as np\n",
    "import getSandP as snp \n",
    "from datetime import datetime\n",
    "from concurrent import futures"
   ]
  },
  {
   "cell_type": "code",
   "execution_count": null,
   "id": "c3eb62b5",
   "metadata": {
    "vscode": {
     "languageId": "plaintext"
    }
   },
   "outputs": [],
   "source": [
    "apple_df = pd.read_csv('individual_stocks_5yr/individual_stocks_5yr/AAPL_data.csv')\n",
    "sorted_df = apple_df.groupby('date')['close'].mean().plot()\n",
    "plt.title(\"APPL close prices from 2013 to 2018\")\n",
    "plt.xlabel(\"Date\")\n",
    "plt.ylabel(\"Close Price in USD ($)\")\n",
    "plt.xticks(rotation=-20)\n",
    "sorted_df\n",
    "plt.show"
   ]
  },
  {
   "cell_type": "code",
   "execution_count": null,
   "id": "f0778999",
   "metadata": {
    "vscode": {
     "languageId": "plaintext"
    }
   },
   "outputs": [],
   "source": [
    "all_df = pd.read_csv('all_stocks_5yr.csv')\n",
    "sorted_all_df = all_df.groupby('date')['close'].mean().plot()\n",
    "plt.title(\"Average close prices from 2013 to 2018\")\n",
    "plt.xlabel(\"Date\")\n",
    "plt.ylabel(\"Close Price in USD ($)\")\n",
    "plt.xticks(rotation=-20)\n",
    "sorted_all_df"
   ]
  }
 ],
 "metadata": {
  "language_info": {
   "name": "python"
  }
 },
 "nbformat": 4,
 "nbformat_minor": 5
}
